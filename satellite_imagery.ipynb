{
 "cells": [
  {
   "cell_type": "code",
   "execution_count": 58,
   "id": "0c608d28-9969-4f11-8831-073d7470bd17",
   "metadata": {},
   "outputs": [],
   "source": [
    "# IMPORTS\n",
    "from pystac_client import Client\n",
    "from shapely.geometry import box\n",
    "import datetime\n",
    "import webbrowser\n",
    "import matplotlib.pyplot as plt\n",
    "from PIL import Image"
   ]
  },
  {
   "cell_type": "code",
   "execution_count": 59,
   "id": "62da087f-0be6-48ed-af11-eb767f25be15",
   "metadata": {},
   "outputs": [
    {
     "name": "stdout",
     "output_type": "stream",
     "text": [
      "🔗 Connecting to Microsoft Planetary Computer STAC...\n",
      "✅ NAIP image for 2010: https://planetarycomputer.microsoft.com/api/data/v1/item/preview.png?collection=naip&item=fl_m_2808138_sw_17_1_20100617&assets=image&asset_bidx=image%7C1%2C2%2C3&format=png\n",
      "✅ NAIP image for 2023: https://planetarycomputer.microsoft.com/api/data/v1/item/preview.png?collection=naip&item=fl_m_2808138_sw_17_030_20230112_20230511&assets=image&asset_bidx=image%7C1%2C2%2C3&format=png\n"
     ]
    }
   ],
   "source": [
    "# Satellite Images\n",
    "LOCATION_NAME = \"Orlando Airport Development Imagery\"\n",
    "BBOX =  [-81.40, 28.41, -81.27, 28.47]   # min lon, min lat, max lon, max lat\n",
    "COLLECTION = \"naip\"\n",
    "YEARS = [2010,2023]\n",
    "\n",
    "print(\"🔗 Connecting to Microsoft Planetary Computer STAC...\")\n",
    "catalog = Client.open(\"https://planetarycomputer.microsoft.com/api/stac/v1\")\n",
    "\n",
    "for year in YEARS:\n",
    "    start_date = f\"{year}-01-01T00:00:00Z\"\n",
    "    end_date = f\"{year}-12-31T23:59:59Z\"\n",
    "\n",
    "    search = catalog.search(\n",
    "        collections=[COLLECTION],\n",
    "        bbox=BBOX,\n",
    "        datetime=f\"{start_date}/{end_date}\",\n",
    "        max_items=1,\n",
    "    )\n",
    "\n",
    "    items = list(search.items())\n",
    "\n",
    "    if items:\n",
    "        item = items[0]\n",
    "        preview_url = item.assets[\"rendered_preview\"].href\n",
    "        print(f\"✅ NAIP image for {year}: {preview_url}\")\n",
    "        webbrowser.open(preview_url)\n",
    "    else:\n",
    "        print(f\"❌ No NAIP image found for {year}\")"
   ]
  },
  {
   "cell_type": "raw",
   "id": "5fce0cf8-0de6-430c-a9ba-10d53b9d1bca",
   "metadata": {},
   "source": [
    "Locations with high infrastructure changes\n",
    "\n",
    "LOCATION_NAME = \"Hudson Yards Development - New York City\"\n",
    "\n",
    "BBOX = [-74.0075, 40.7526, -74.0001, 40.7595]\n",
    "\n",
    "LOCATION_NAME = \"Downtown Austin Expansion - Texas\"\n",
    "\n",
    "BBOX = [-97.7491, 30.2622, -97.7363, 30.2747]\n",
    "\n",
    "LOCATION_NAME = \"Silicon Valley Development - North San Jose & Milpitas\"\n",
    "\n",
    "BBOX = [-121.9510, 37.3996, -121.8752, 37.4658]\n",
    "\n",
    "LOCATION_NAME = \"Las Vegas Suburban Growth - Southwest Strip\"\n",
    "\n",
    "BBOX = [-115.3102, 36.0452, -115.2327, 36.1157]\n",
    "\n",
    "LOCATION_NAME = \"Orlando Airport Development Imagery\"\n",
    "\n",
    "BBOX =  [-81.40, 28.41, -81.27, 28.47]"
   ]
  }
 ],
 "metadata": {
  "kernelspec": {
   "display_name": "Python 3 (ipykernel)",
   "language": "python",
   "name": "python3"
  },
  "language_info": {
   "codemirror_mode": {
    "name": "ipython",
    "version": 3
   },
   "file_extension": ".py",
   "mimetype": "text/x-python",
   "name": "python",
   "nbconvert_exporter": "python",
   "pygments_lexer": "ipython3",
   "version": "3.11.3"
  }
 },
 "nbformat": 4,
 "nbformat_minor": 5
}
